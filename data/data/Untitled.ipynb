{
 "cells": [
  {
   "cell_type": "code",
   "execution_count": 1,
   "metadata": {},
   "outputs": [],
   "source": [
    "import pandas as pd"
   ]
  },
  {
   "cell_type": "code",
   "execution_count": 2,
   "metadata": {},
   "outputs": [
    {
     "data": {
      "text/html": [
       "<div>\n",
       "<style scoped>\n",
       "    .dataframe tbody tr th:only-of-type {\n",
       "        vertical-align: middle;\n",
       "    }\n",
       "\n",
       "    .dataframe tbody tr th {\n",
       "        vertical-align: top;\n",
       "    }\n",
       "\n",
       "    .dataframe thead th {\n",
       "        text-align: right;\n",
       "    }\n",
       "</style>\n",
       "<table border=\"1\" class=\"dataframe\">\n",
       "  <thead>\n",
       "    <tr style=\"text-align: right;\">\n",
       "      <th></th>\n",
       "      <th>Unnamed: 0</th>\n",
       "      <th>Title</th>\n",
       "      <th>Text</th>\n",
       "      <th>Domain</th>\n",
       "    </tr>\n",
       "  </thead>\n",
       "  <tbody>\n",
       "    <tr>\n",
       "      <td>0</td>\n",
       "      <td>0</td>\n",
       "      <td>Short Trip to Comprehensive Center Worth It in...</td>\n",
       "      <td>For patients suspected of having a large-vesse...</td>\n",
       "      <td>www.medscape.com</td>\n",
       "    </tr>\n",
       "    <tr>\n",
       "      <td>1</td>\n",
       "      <td>1</td>\n",
       "      <td>Denosumab Now Dominant Therapy for Cancer-Asso...</td>\n",
       "      <td>Amid a substantial expansion of therapies in s...</td>\n",
       "      <td>www.medscape.com</td>\n",
       "    </tr>\n",
       "    <tr>\n",
       "      <td>2</td>\n",
       "      <td>2</td>\n",
       "      <td>Doughnut Giveaway for COVID Vaccinations Raise...</td>\n",
       "      <td>Krispy Kreme doughnuts, an iconic American foo...</td>\n",
       "      <td>www.medscape.com</td>\n",
       "    </tr>\n",
       "    <tr>\n",
       "      <td>3</td>\n",
       "      <td>3</td>\n",
       "      <td>Decrease Seen in Texans Showing Up for COVID-1...</td>\n",
       "      <td>Editor's note: Find the latest COVID-19 news a...</td>\n",
       "      <td>www.medscape.com</td>\n",
       "    </tr>\n",
       "    <tr>\n",
       "      <td>4</td>\n",
       "      <td>4</td>\n",
       "      <td>How One State's Public Health Defunding Led to...</td>\n",
       "      <td>Editor's note: Find the latest COVID-19 news a...</td>\n",
       "      <td>www.medscape.com</td>\n",
       "    </tr>\n",
       "  </tbody>\n",
       "</table>\n",
       "</div>"
      ],
      "text/plain": [
       "   Unnamed: 0                                              Title  \\\n",
       "0           0  Short Trip to Comprehensive Center Worth It in...   \n",
       "1           1  Denosumab Now Dominant Therapy for Cancer-Asso...   \n",
       "2           2  Doughnut Giveaway for COVID Vaccinations Raise...   \n",
       "3           3  Decrease Seen in Texans Showing Up for COVID-1...   \n",
       "4           4  How One State's Public Health Defunding Led to...   \n",
       "\n",
       "                                                Text            Domain  \n",
       "0  For patients suspected of having a large-vesse...  www.medscape.com  \n",
       "1  Amid a substantial expansion of therapies in s...  www.medscape.com  \n",
       "2  Krispy Kreme doughnuts, an iconic American foo...  www.medscape.com  \n",
       "3  Editor's note: Find the latest COVID-19 news a...  www.medscape.com  \n",
       "4  Editor's note: Find the latest COVID-19 news a...  www.medscape.com  "
      ]
     },
     "execution_count": 2,
     "metadata": {},
     "output_type": "execute_result"
    }
   ],
   "source": [
    "data = pd.read_csv('mednews.csv')\n",
    "data.head()"
   ]
  },
  {
   "cell_type": "code",
   "execution_count": 3,
   "metadata": {},
   "outputs": [
    {
     "name": "stdout",
     "output_type": "stream",
     "text": [
      "Traceback (most recent call last):\r\n",
      "  File \"scraping.py\", line 4, in <module>\r\n",
      "    from newspaper import Article\r\n",
      "ModuleNotFoundError: No module named 'newspaper'\r\n"
     ]
    }
   ],
   "source": [
    "!python3 scraping.py"
   ]
  },
  {
   "cell_type": "code",
   "execution_count": null,
   "metadata": {},
   "outputs": [],
   "source": []
  }
 ],
 "metadata": {
  "kernelspec": {
   "display_name": "Python 3",
   "language": "python",
   "name": "python3"
  },
  "language_info": {
   "codemirror_mode": {
    "name": "ipython",
    "version": 3
   },
   "file_extension": ".py",
   "mimetype": "text/x-python",
   "name": "python",
   "nbconvert_exporter": "python",
   "pygments_lexer": "ipython3",
   "version": "3.7.4"
  }
 },
 "nbformat": 4,
 "nbformat_minor": 5
}
